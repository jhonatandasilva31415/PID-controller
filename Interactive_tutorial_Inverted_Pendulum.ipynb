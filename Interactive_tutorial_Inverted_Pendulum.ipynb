{
 "cells": [
  {
   "cell_type": "code",
   "execution_count": 1,
   "metadata": {},
   "outputs": [],
   "source": [
    "from scipy import signal\n",
    "import numpy as np\n",
    "from matplotlib import pyplot as plt \n",
    "import control\n",
    "import tikzmagic\n",
    "import warnings\n",
    "warnings.filterwarnings('ignore')\n",
    "from jupyterthemes import jtplot\n",
    "jtplot.style()\n",
    "\n",
    "%matplotlib inline"
   ]
  },
  {
   "cell_type": "code",
   "execution_count": 2,
   "metadata": {},
   "outputs": [],
   "source": [
    "from __future__ import print_function\n",
    "from ipywidgets import interact, interactive, fixed, interact_manual\n",
    "import ipywidgets as widgets"
   ]
  },
  {
   "cell_type": "code",
   "execution_count": 3,
   "metadata": {},
   "outputs": [
    {
     "data": {
      "application/javascript": [
       "IPython.OutputArea.prototype._should_scroll = function(lines) {\n",
       "    return false;\n",
       "}\n"
      ],
      "text/plain": [
       "<IPython.core.display.Javascript object>"
      ]
     },
     "metadata": {},
     "output_type": "display_data"
    }
   ],
   "source": [
    "%%javascript\n",
    "IPython.OutputArea.prototype._should_scroll = function(lines) {\n",
    "    return false;\n",
    "}"
   ]
  },
  {
   "cell_type": "markdown",
   "metadata": {},
   "source": [
    "#### Initial modelling of the system\n",
    "\n",
    "Euler-Lagrange Equations <br/>\n",
    "\n",
    "\\begin{align}\n",
    "L & := T - V  \\\\ \n",
    "\\end{align}\n",
    " \n",
    "\\begin{align}\n",
    "\\frac{d}{dt} \\left(\\frac{\\partial L}{\\partial \\dot{q_i}} \\right) - \\frac{\\partial L}{\\partial q_i} = Q_i\n",
    "\\end{align}\n",
    "\n",
    "For the pendulum we have $q$ as $x$ , this will give us the equations of movement for $x$. We also have $q$ as $\\theta$, this will give us the equations of motion for $\\theta$ , soon we'll need to solve both equations\n",
    "\n",
    "\\begin{align}\n",
    "\\frac{d}{dt} \\left(\\frac{\\partial L}{\\partial \\dot{x}} \\right) - \\frac{\\partial L}{\\partial x} \\\\ \\\\\n",
    "\\frac{d}{dt} \\left(\\frac{\\partial L}{\\partial \\dot{\\theta}} \\right) - \\frac{\\partial L}{\\partial \\theta}\n",
    "\\end{align}\n",
    "\n",
    "Where T is the total kinetic energy of the system and V is the potential energy. Considering the cart as V = 0. For m,l,g,$\\theta$ we have respectively the mass, length of the pendulum, gravity and the angle between the vertical and the pendulum \n",
    "\n",
    "\\begin{align}\n",
    "V & = mgl cos \\theta \\\\\n",
    "\\end{align}\n",
    "\n",
    "Now we are interested in calculating the kinetic energy of the system. Taking M as the total mass of the cart, F as the force that pushes the cart, we have\n",
    "\n",
    "\\begin{align}\n",
    "T & = \\frac{1}{2}\\left(M+m\\right)\\dot{x}^2 - m\\dot{x}l\\dot{\\theta}cos\\theta + \\frac{1}{2}ml^2\\dot{\\theta}^2   \\\\\n",
    "\\end{align}\n",
    "\n",
    "Therefore\n",
    "\n",
    "\\begin{align}\n",
    "L & = \\frac{1}{2}\\left(M+m\\right)\\dot{x}^2 - m\\dot{x}l\\dot{\\theta}cos\\theta + \\frac{1}{2}ml^2\\dot{\\theta}^2 -mglcos\\theta  \\\\\n",
    "\\end{align}\n",
    "\n",
    "Solving both equations for $x$ and $\\theta$ we have \n",
    "\n",
    "\\begin{align}\n",
    "(M+m)\\ddot{x} + ml\\dot{\\theta}^2sen\\theta - ml\\ddot{\\theta}cos\\theta = F \\\\\n",
    "\\ddot{x}cos\\theta + l\\ddot{\\theta} - gsen\\theta = 0\n",
    "\\end{align}\n",
    "\n",
    "This modelling is for a simple pendulum moved by a cartm for a physical pendulum, some adjustments are required. Every adjustment were taken from this thesis http://ethesis.nitrkl.ac.in/2213/1/Inverted_Pendulum.pdf\n",
    "\n",
    "\\begin{align}\n",
    "(M+m)\\ddot{x} + b\\dot{x} - ml\\dot{\\theta}^2sen\\theta + ml\\ddot{\\theta}cos\\theta = F \\\\\n",
    "ml\\ddot{x}cos\\theta + (I + ml^2)\\ddot{\\theta} - mglsen\\theta = 0\n",
    "\\end{align}\n",
    "\n",
    "##### Linearization about a point\n",
    "\n",
    "\\begin{align}\n",
    "\\theta = \\Pi + \\phi \\\\ \n",
    "\\\\\n",
    "\\end{align}\n",
    "Being $\\phi \\approx 0$ we can make a small angle approximation\n",
    "\\begin{align}\n",
    "\\\\\n",
    "cos\\phi = -1 \\\\\n",
    "sen\\phi = \\phi \\\\\n",
    "\\dot{\\theta} = 0 \\\\\n",
    "\\\\\n",
    "\\end{align}\n",
    "After the linearization we have\n",
    "\\begin{align}\n",
    "(M+m)\\ddot{x} + b\\dot{x} -ml\\dot{\\phi} = u \\\\\n",
    "(I + ml^2)\\ddot{\\phi} -mgl\\phi - ml\\ddot{x} = 0\n",
    "\\\\\n",
    "\\end{align}\n",
    "#### Laplace\n",
    "\\begin{align}\n",
    "X(s)(M+m)s^2 + X(s)bs -\\Phi(s)mls = U(s) \\\\\n",
    "\\Phi(s)(I + ml^2)s^2 -\\Phi(s)mgls - X(s)mls^2 = 0\n",
    "\\\\\n",
    "\\end{align}\n",
    "\n",
    "#### Transfer functions\n",
    "\n",
    "\\begin{align}\n",
    "\\frac{X(s)}{U(s)} = \\frac{(I + ml^2)s^2 - mgl}{ [(M+m)(I + ml^2) - ml^2]s^4 + b(I + mIl^2)s^3 - (M + m)mgls^2 -mglbs} \\\\\n",
    "\\\\\n",
    "\\end{align}\n",
    "\\begin{align}\n",
    "\\frac{\\Phi(s)}{U(s)} = \\frac{\\frac{ml}{q}s}{s^3 - \\frac{b(I+ml^2)}{q}s^2 - \\frac{(M+m)mgl}{q}s - \\frac{bmgl}{q}}\n",
    "\\\\\n",
    "q := [(M+m)(I+ml^2) - ml^2]\n",
    "\\end{align}\n",
    "\n",
    "Igoring the friction ( Oh my dear hearth ) and applying the parameters we have\n",
    "\n",
    "\\begin{align}\n",
    "\\frac{X(s)}{U(s)} = \\frac{b_2}{s^2} \\\\\n",
    "\\\\\n",
    "\\end{align}\n",
    "\\begin{align}\n",
    "\\frac{\\Phi(s)}{U(s)} = \\frac{b_1}{s^2 - a_1^2}\n",
    "\\end{align}\n",
    "\n",
    "Where \n",
    "\n",
    "\\begin{align}\n",
    "\\therefore && b_1 = 0.2570 &&\n",
    "a_1 = 6.6307 && \n",
    "b_2 = 0.3802 & \\implies\n",
    "\\frac{X(s)}{U(s)} = \\frac{0.3802}{s^2} && \\frac{\\Phi(s)}{U(s)} = \\frac{0.2570}{s^2 - 6.6307}\n",
    "\\end{align}"
   ]
  },
  {
   "cell_type": "markdown",
   "metadata": {},
   "source": [
    "#### Inverted pendulum Time Domain\n",
    "\n",
    "Just the angle transfer function\n",
    "\\begin{align}\n",
    "\\\\\n",
    "\\frac{\\Phi(s)}{U(s)} = \\frac{0.2570}{s^2 - 6.6307}\n",
    "\\end{align}"
   ]
  },
  {
   "cell_type": "code",
   "execution_count": 5,
   "metadata": {},
   "outputs": [],
   "source": [
    "num = [0.2570]\n",
    "den = [1,0,-6.6370]\n",
    "ft_angulo = signal.TransferFunction(num, den)"
   ]
  },
  {
   "cell_type": "code",
   "execution_count": 6,
   "metadata": {},
   "outputs": [
    {
     "data": {
      "text/plain": [
       "array([ 2.57623757, -2.57623757])"
      ]
     },
     "execution_count": 6,
     "metadata": {},
     "output_type": "execute_result"
    }
   ],
   "source": [
    "polos = ft_angulo.poles\n",
    "polos"
   ]
  },
  {
   "cell_type": "code",
   "execution_count": 7,
   "metadata": {},
   "outputs": [
    {
     "data": {
      "image/png": "[encoded data removed]",
      "text/plain": [
       "<Figure size 1080x360 with 1 Axes>"
      ]
     },
     "metadata": {
      "needs_background": "light"
     },
     "output_type": "display_data"
    }
   ],
   "source": [
    "fig = plt.figure(figsize=(15,5))\n",
    "plt.grid(True,linewidth=.3)\n",
    "[plt.scatter(polo,0,marker='x',c='b',s=100) for polo in polos]\n",
    "plt.show()\n"
   ]
  },
  {
   "cell_type": "markdown",
   "metadata": {},
   "source": [
    "### Step and Impulse Response"
   ]
  },
  {
   "cell_type": "code",
   "execution_count": 8,
   "metadata": {},
   "outputs": [
    {
     "data": {
      "image/png": "[encoded data removed]",
      "text/plain": [
       "<Figure size 1080x360 with 1 Axes>"
      ]
     },
     "metadata": {
      "needs_background": "light"
     },
     "output_type": "display_data"
    }
   ],
   "source": [
    "fig = plt.figure(figsize=(15,5))\n",
    "t,y = signal.impulse(ft_angulo)\n",
    "t_degrau,y_degrau = signal.step(ft_angulo)\n",
    "plt.plot(t,y)\n",
    "plt.plot(t_degrau,y_degrau,'r')\n",
    "plt.legend(['Resposta ao impulso','Resposta ao degrau'])\n",
    "plt.title('Análise resposta no domínio do tempo')\n",
    "plt.show()"
   ]
  },
  {
   "cell_type": "markdown",
   "metadata": {},
   "source": [
    "### Control"
   ]
  },
  {
   "cell_type": "code",
   "execution_count": 9,
   "metadata": {},
   "outputs": [
    {
     "data": {
      "application/vnd.jupyter.widget-view+json": {
       "model_id": "b25e598ced354727a900775c95bbce9f",
       "version_major": 2,
       "version_minor": 0
      },
      "text/plain": [
       "interactive(children=(IntSlider(value=22, description='kp', max=50, min=-5), Output()), _dom_classes=('widget-…"
      ]
     },
     "metadata": {},
     "output_type": "display_data"
    },
    {
     "data": {
      "text/plain": [
       "<function __main__.update_rootlocus(kp)>"
      ]
     },
     "execution_count": 9,
     "metadata": {},
     "output_type": "execute_result"
    }
   ],
   "source": [
    "roots_real = []\n",
    "roots_img = []\n",
    "colors_vec = []\n",
    "ks = np.linspace(0,50,30)\n",
    "for k in ks:\n",
    "    tf = [1,0,0.2570*k - 6.6370]\n",
    "    poles = np.roots(tf)\n",
    "    [roots_real.append(pole.real) for pole in poles]\n",
    "    [roots_img.append(pole.imag) for pole in poles]\n",
    "    colors_vec.append(0)\n",
    "    colors_vec.append(1)\n",
    "           \n",
    "def update_rootlocus(kp):\n",
    "    fig = plt.figure(figsize=(15,5))\n",
    "    ax = fig.add_subplot(1, 1, 1)\n",
    "    colors = ['b','r']\n",
    "    ax.grid(True)\n",
    "    ax.set_ylim(-3,3)\n",
    "    ax.set_xlim(-3,3)\n",
    "    plt.scatter(2.57,0,s=150,c=colors[0],marker='X')\n",
    "    plt.scatter(-2.57,0,s=150,c=colors[1],marker='X')\n",
    "    for i in range(len(roots_real)):\n",
    "        plt.scatter(roots_real[i],roots_img[i],marker='x',s=100,c=colors[colors_vec[i]])\n",
    "        \n",
    "    tf_interact = [1,0,0.2570*kp - 6.6370]\n",
    "    poles_interact = np.roots(tf_interact)\n",
    "    is_real_interact = np.isreal(poles_interact[0])\n",
    "    if is_real_interact:\n",
    "        for i,pole in enumerate(poles_interact):\n",
    "            plt.scatter(pole,0,s=150,marker='o',c=colors[i])\n",
    "    else:\n",
    "        for i,pole in enumerate(poles_interact):\n",
    "            plt.scatter(pole.real,pole.imag,s=150,marker='o',c=colors[i])\n",
    "    legend_1 = str(round(poles_interact[0].real,3)) + ' + ' + str(round(poles_interact[0].imag,3))  + 'j'\n",
    "    legend_2 = str(round(poles_interact[1].real,3)) + ' + ' + str(round(poles_interact[1].imag,3))  + 'j'\n",
    "    ax.legend([legend_1,legend_2])\n",
    "\n",
    "    plt.show()\n",
    "    \n",
    "interact(update_rootlocus,kp=(-5,50,1))"
   ]
  },
  {
   "cell_type": "markdown",
   "metadata": {},
   "source": [
    "### PID Control"
   ]
  },
  {
   "cell_type": "code",
   "execution_count": 10,
   "metadata": {},
   "outputs": [],
   "source": [
    "from control import tf,feedback,step_response,impulse_response\n",
    "def pzmap(transfer_function):\n",
    "    # plot the poles and zeros of the transfer function\n",
    "    poles = transfer_function.pole()\n",
    "    zeros = transfer_function.zero() \n",
    "    plt.xlim(20,-20)\n",
    "    plt.ylim(20,-20)\n",
    "    [plt.scatter(pole.real,pole.imag,marker='X') for pole in poles]\n",
    "    [plt.scatter(zero.real,zero.imag,marker='o') for zero in zeros]\n",
    "    plt.grid()\n",
    "    plt.show()\n",
    "    \n",
    "def _step(transfer_function):\n",
    "    # plot the step response for the transfer function\n",
    "    T, yout = step_response(transfer_function)\n",
    "    plt.plot(T,yout)\n",
    "    plt.show()"
   ]
  },
  {
   "cell_type": "code",
   "execution_count": 11,
   "metadata": {},
   "outputs": [
    {
     "data": {
      "application/vnd.jupyter.widget-view+json": {
       "model_id": "1a9e14ec31cd4099a7730ae0de81b9e3",
       "version_major": 2,
       "version_minor": 0
      },
      "text/plain": [
       "interactive(children=(BoundedFloatText(value=0.0, description='K:', max=500.0, min=-500.0, step=0.2), BoundedF…"
      ]
     },
     "metadata": {},
     "output_type": "display_data"
    },
    {
     "data": {
      "text/plain": [
       "<function __main__.test_PID(K, Ti, Td, points, step_function, show_zeros_and_poles, ax_autoresize)>"
      ]
     },
     "execution_count": 11,
     "metadata": {},
     "output_type": "execute_result"
    }
   ],
   "source": [
    "# PID ISA Kc (1 + 1/(Ti * s) + Td * s )\n",
    "\n",
    "colors = ['rosybrown','olivedrab','darkgoldenrod','lightslategray']\n",
    "\n",
    "def test_PID(K,Ti,Td,points,step_function,show_zeros_and_poles,ax_autoresize):\n",
    "    roots_real = []\n",
    "    roots_img = []\n",
    "    color_vector = []\n",
    "    Kcs = np.linspace(0,250,points)\n",
    "    s = tf([1,0],1)\n",
    "    G = (0.2570)/(s**2 - 6.6370)\n",
    "    for Kc in Kcs:\n",
    "        if(Ti == 0):\n",
    "            Gc = Kc*(1 + s*Td)\n",
    "        else:\n",
    "            Gc = Kc*(1 + s*Td + 1/(Ti*s))\n",
    "        closed_loop_tf = feedback(Gc*G,1)\n",
    "        poles = closed_loop_tf.pole()\n",
    "        how_many_poles = len(poles)\n",
    "        counter = 0\n",
    "        if(how_many_poles > 0):\n",
    "            for i,pole in enumerate(poles):\n",
    "                roots_real.append(poles[i].real)\n",
    "                roots_img.append(poles[i].imag)\n",
    "                color_vector.append(colors[counter])\n",
    "                counter += 1\n",
    "                if(counter == how_many_poles): counter = 0\n",
    "    length = 5\n",
    "    if(step_function): length = 10\n",
    "    fig = plt.figure(figsize=(15,length))\n",
    "    if(step_function):\n",
    "        ax = fig.add_subplot(211)\n",
    "        ax2 = fig.add_subplot(212)\n",
    "        ax2.grid(True)\n",
    "    else:\n",
    "        ax = fig.add_subplot(111)\n",
    "    ax.grid(True)\n",
    "    \n",
    "    for i in range(len(roots_real)):\n",
    "        ax.scatter(roots_real[i],roots_img[i],marker='x',s=30,color=color_vector[i])\n",
    "    \n",
    "    if(K != 0):\n",
    "        if(Ti == 0):\n",
    "            Gc = K*(1 + s*Td)\n",
    "        else:\n",
    "            Gc = K*(1 + s*Td + 1/(Ti*s))\n",
    "        closed_loop_tf = feedback(Gc*G,1)\n",
    "        _poles = closed_loop_tf.pole()\n",
    "        _zeros = closed_loop_tf.zero()\n",
    "        [ax.scatter(pole.real,pole.imag,marker='X',s=100,color='black') for pole in _poles]\n",
    "        [ax.scatter(zero.real,zero.imag,marker='o',s=100,color='darkgreen') for zero in _zeros]\n",
    "        if(step_function):\n",
    "            T, yout = step_response(closed_loop_tf)\n",
    "            ax2.plot(T,yout)\n",
    "        total_number_of_poles_and_zeros = len(_poles) + len(_zeros)\n",
    "        legends = []\n",
    "        [legends.append(str(round(pole.real,3)) + ' + ' + str(round(pole.imag,3))  + 'j') for pole in _poles]\n",
    "        [legends.append(str(round(zero.real,3)) + ' + ' + str(round(zero.imag,3))  + 'j') for zero in _zeros]\n",
    "        if(show_zeros_and_poles): ax.legend(legends)\n",
    "        if(not ax_autoresize):\n",
    "            ax.set_ylim(-5,5)\n",
    "            ax.set_xlim(-5,5)\n",
    "      \n",
    "        \n",
    "interact(test_PID,\n",
    "         K=widgets.BoundedFloatText(\n",
    "                            value=0,\n",
    "                            min=-500,\n",
    "                            max=500.0,\n",
    "                            step=.2,\n",
    "                            description='K:',\n",
    "                            disabled=False\n",
    "                        ),\n",
    "         Ti=widgets.BoundedFloatText(\n",
    "                            value=0,\n",
    "                            min=-500,\n",
    "                            max=500.0,\n",
    "                            step=.01,\n",
    "                            description='Ti:',\n",
    "                            disabled=False\n",
    "                        ),\n",
    "         Td=widgets.BoundedFloatText(\n",
    "                            value=0,\n",
    "                            min=-500,\n",
    "                            max=500.0,\n",
    "                            step=.01,\n",
    "                            description='Td:',\n",
    "                            disabled=False\n",
    "                        ),\n",
    "         points=widgets.BoundedFloatText(\n",
    "                            value=10,\n",
    "                            min=10.0,\n",
    "                            max=200.0,\n",
    "                            step=1,\n",
    "                            description='Points:',\n",
    "                            disabled=False\n",
    "                        ),\n",
    "         step_function = widgets.Checkbox(\n",
    "                                            value=False,\n",
    "                                            description='Resposta ao Degrau',\n",
    "                                            disabled=False\n",
    "                                        ),\n",
    "         show_zeros_and_poles = widgets.Checkbox(\n",
    "                                            value=True,\n",
    "                                            description='Mostrar polos e zeros',\n",
    "                                            disabled=False\n",
    "                                        ),\n",
    "         ax_autoresize = widgets.Checkbox(\n",
    "                                            value=True,\n",
    "                                            description='Auto ajustar escala',\n",
    "                                            disabled=False\n",
    "                                        )\n",
    "        )\n",
    "#K=widgets.FloatSlider(min=-1000.0, max=1000.0, value=1,step=0.2, description='K')"
   ]
  },
  {
   "cell_type": "markdown",
   "metadata": {},
   "source": [
    "### Even more functionality"
   ]
  },
  {
   "cell_type": "code",
   "execution_count": 12,
   "metadata": {},
   "outputs": [
    {
     "data": {
      "application/vnd.jupyter.widget-view+json": {
       "model_id": "091654c1a0304c8f9f89cb0311d6adfe",
       "version_major": 2,
       "version_minor": 0
      },
      "text/plain": [
       "Tab(children=(VBox(children=(HBox(children=(Label(value=\"K point's :\", layout=Layout(width='10%')), BoundedFlo…"
      ]
     },
     "metadata": {},
     "output_type": "display_data"
    },
    {
     "data": {
      "application/vnd.jupyter.widget-view+json": {
       "model_id": "046ee8a927d5404587f127735179e65e",
       "version_major": 2,
       "version_minor": 0
      },
      "text/plain": [
       "interactive(children=(ToggleButton(value=False, button_style='info', description='Simulate!', icon='check', to…"
      ]
     },
     "metadata": {},
     "output_type": "display_data"
    },
    {
     "data": {
      "text/plain": [
       "<function __main__.ISA_PID(GUI_container)>"
      ]
     },
     "execution_count": 12,
     "metadata": {},
     "output_type": "execute_result"
    }
   ],
   "source": [
    "\"\"\" General parameters \"\"\"\n",
    "tab_titles   = ['Simulation','Process Transfer Function','ISA PID Parameters']\n",
    "\n",
    "\"\"\" Tab Plant \"\"\"\n",
    "label_numerador = widgets.Label('Numerator :',layout = widgets.Layout(width = '12%'))\n",
    "box_layout = widgets.Text(layout=widgets.Layout(width = \"15%\",height = '40px'))\n",
    "numerador = widgets.Text(layout = box_layout.layout)\n",
    "space = widgets.Label('',layout = widgets.Layout(width = '3%')) \n",
    "tip = widgets.Label('e.g 1,0,-6.6370 --> s^2 - 6.6370',layout = widgets.Layout(width = '25%'))\n",
    "\n",
    "container_numerador = widgets.HBox(children=[label_numerador,numerador,space,tip])\n",
    "\n",
    "label_denominador = widgets.Label('Denominator :',layout = widgets.Layout(width = '12%'))\n",
    "denominador = widgets.Text(layout = box_layout.layout)\n",
    "container_denominador = widgets.HBox(children=[label_denominador,denominador])\n",
    "\n",
    "container_plant = widgets.VBox(children=[container_numerador,container_denominador])\n",
    "\n",
    "\"\"\" Tab ISA PID Parameters \"\"\"\n",
    "\n",
    "def k_box(description,tip,default_value):\n",
    "    label_kp = widgets.Label(description + ' :',layout = widgets.Layout(width = '4%'))\n",
    "    box_layout = widgets.Text(layout=widgets.Layout(width = \"15%\",height = '40px'))\n",
    "    kp = widgets.BoundedFloatText(\n",
    "                                value=default_value,\n",
    "                                min=-1000.0,\n",
    "                                max=1000.0,\n",
    "                                step=.05,\n",
    "                                disabled=False,\n",
    "                                layout = box_layout.layout\n",
    "                            )\n",
    "    space = widgets.Label('',layout = widgets.Layout(width = '3%')) \n",
    "    tip_kp = widgets.Label(tip,layout = widgets.Layout(width = '20%'))\n",
    "\n",
    "    return widgets.HBox(children=[label_kp,kp,space,tip_kp])\n",
    "\n",
    "container_kp = k_box('Kp','Proportional part',1)\n",
    "container_Td = k_box('Td','Derivative part',0)\n",
    "container_Ti = k_box('Ti','Integral part',0)\n",
    "\n",
    "container_ISA_PID = widgets.VBox(children=[container_kp,container_Td,container_Ti])\n",
    "\n",
    "\"\"\" Config parameters \"\"\"\n",
    "def config_box(description,tip,Min,Max,default_value,step):\n",
    "    label_kp = widgets.Label(description + ' :',layout = widgets.Layout(width = '10%'))\n",
    "    box_layout = widgets.Text(layout=widgets.Layout(width = \"15%\",height = '40px'))\n",
    "    kp = widgets.BoundedFloatText(\n",
    "                                value=default_value,\n",
    "                                min=Min,\n",
    "                                max=Max,\n",
    "                                step=step,\n",
    "                                disabled=False,\n",
    "                                layout = box_layout.layout\n",
    "                            )\n",
    "    space = widgets.Label('',layout = widgets.Layout(width = '3%')) \n",
    "    tip_kp = widgets.Label(tip,layout = widgets.Layout(width = '25%'))\n",
    "\n",
    "    return widgets.HBox(children=[label_kp,kp,space,tip_kp])\n",
    "\n",
    "container_kpoints = config_box(\"K point's\",'Root locus range of points for k',10,1000,10,1)\n",
    "container_linspace = config_box(\"Spacement\",'Parameter for linspace of the K points',1,1000,10,1)\n",
    "container_config = widgets.VBox(children=[container_kpoints,container_linspace])\n",
    "\n",
    "\"\"\" Contents of the GUI \"\"\"\n",
    "tab_contents = [container_config,container_plant,container_ISA_PID]\n",
    "\n",
    "\"\"\" Creating the tab element \"\"\"\n",
    "tab = widgets.Tab()\n",
    "tab.children = tab_contents\n",
    "\n",
    "\"\"\" Indexing titles for the tabs \"\"\"\n",
    "[tab.set_title(i,tab_titles[i]) for i in range(len(tab_titles))]\n",
    "\n",
    "\"\"\" Displaying \"\"\"\n",
    "display(tab)\n",
    "\n",
    "\"\"\" Update function for the animation \"\"\"\n",
    "def ISA_PID(GUI_container):\n",
    "    fig = plt.figure(figsize=(15,10))\n",
    "    #plt.close()\n",
    "    ax = fig.add_subplot(211)\n",
    "    ax2 = fig.add_subplot(212)\n",
    "    ax2.grid(True)\n",
    "    ax.grid(True)\n",
    "    \"\"\" Simulation \"\"\"\n",
    "    k_range = tab.children[0].children[0].children[1].value\n",
    "    spacement = tab.children[0].children[1].children[1].value\n",
    "    # for test purposes \n",
    "    tab.children[0].children[0].children[1].value = 500\n",
    "    \"\"\" Plant \"\"\"\n",
    "    numerador_value = tab.children[1].children[0].children[1].value\n",
    "    denominador_value = tab.children[1].children[1].children[1].value\n",
    "    # for test purposes\n",
    "    tab.children[1].children[0].children[1].value = '0.2570'\n",
    "    tab.children[1].children[1].children[1].value = '1,0,-6.6370'\n",
    "    \"\"\" ISA PID Parameters \"\"\"\n",
    "    K = tab.children[2].children[0].children[1].value\n",
    "    Td = tab.children[2].children[1].children[1].value\n",
    "    Ti = tab.children[2].children[2].children[1].value\n",
    "\n",
    "    if(numerador_value != ''): \n",
    "        num = np.array([np.float(numero) for numero in numerador_value.split(',')])\n",
    "    else:\n",
    "        num = 1 \n",
    "    if(denominador_value != ''):\n",
    "        den = np.array([np.float(numero) for numero in denominador_value.split(',')])\n",
    "    else:\n",
    "        den = 1\n",
    "    G = tf(num,den)\n",
    "    print('Transfer Function : ', G)\n",
    "    \"\"\" Simulation part \"\"\"\n",
    "    roots_real = []\n",
    "    roots_img = []\n",
    "    color_vector = []\n",
    "    Kcs = np.linspace(0,k_range,spacement)\n",
    "    s = tf([1,0],1)\n",
    "    if( (type(np.ones(1)) == type(num)) or (type(np.ones(1)) == type(den)) ):\n",
    "        for Kc in Kcs:\n",
    "            if(Ti == 0):\n",
    "                Gc = Kc*(1 + s*Td)\n",
    "            else:\n",
    "                Gc = Kc*(1 + s*Td + 1/(Ti*s))\n",
    "            closed_loop_tf = feedback(Gc*G,1)\n",
    "            poles = closed_loop_tf.pole()\n",
    "            how_many_poles = len(poles)\n",
    "            counter = 0\n",
    "            if(how_many_poles > 0):\n",
    "                for i,pole in enumerate(poles):\n",
    "                    roots_real.append(poles[i].real)\n",
    "                    roots_img.append(poles[i].imag)\n",
    "                    color_vector.append(colors[counter])\n",
    "                    counter += 1\n",
    "                    if(counter == how_many_poles): counter = 0\n",
    "        length = 5\n",
    "        for i in range(len(roots_real)):\n",
    "            ax.scatter(roots_real[i],roots_img[i],marker='x',s=30,color=color_vector[i])\n",
    "\n",
    "        if(K != 0):\n",
    "            if(Ti == 0):\n",
    "                Gc = K*(1 + s*Td)\n",
    "            else:\n",
    "                Gc = K*(1 + s*Td + 1/(Ti*s))\n",
    "            closed_loop_tf = feedback(Gc*G,1)\n",
    "            _poles = closed_loop_tf.pole()\n",
    "            _zeros = closed_loop_tf.zero()\n",
    "\n",
    "            [ax.scatter(pole.real,pole.imag,marker='X',s=100,color='black') for pole in _poles]\n",
    "            [ax.scatter(zero.real,zero.imag,marker='o',s=100,color='darkgreen') for zero in _zeros]\n",
    "            T, yout = step_response(closed_loop_tf)\n",
    "            ax2.plot(T,yout)\n",
    "            total_number_of_poles_and_zeros = len(_poles) + len(_zeros)\n",
    "            legends = []\n",
    "            [legends.append(str(round(pole.real,3)) + ' + ' + str(round(pole.imag,3))  + 'j') for pole in _poles]\n",
    "            [legends.append(str(round(zero.real,3)) + ' + ' + str(round(zero.imag,3))  + 'j') for zero in _zeros]\n",
    "            ax.legend(legends)\n",
    "        \n",
    "interact(ISA_PID,GUI_container=widgets.ToggleButton(\n",
    "            description='Simulate!',\n",
    "            button_style='info', # 'success', 'info', 'warning', 'danger' or ''\n",
    "            tooltip='Atualizar parêmetros',\n",
    "            icon='check'\n",
    "        )\n",
    ")"
   ]
  }
 ],
 "metadata": {
  "kernelspec": {
   "display_name": "Python 3",
   "language": "python",
   "name": "python3"
  },
  "language_info": {
   "codemirror_mode": {
    "name": "ipython",
    "version": 3
   },
   "file_extension": ".py",
   "mimetype": "text/x-python",
   "name": "python",
   "nbconvert_exporter": "python",
   "pygments_lexer": "ipython3",
   "version": "3.7.1"
  }
 },
 "nbformat": 4,
 "nbformat_minor": 2
}
